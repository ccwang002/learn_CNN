{
 "metadata": {
  "name": "",
  "signature": "sha256:05e9e16bbb5b0522f69ccf749ea9604dbf345fadd4d0bff533612d2ef16c35e9"
 },
 "nbformat": 3,
 "nbformat_minor": 0,
 "worksheets": [
  {
   "cells": [
    {
     "cell_type": "code",
     "collapsed": false,
     "input": [
      "import numpy as np\n",
      "from scipy.spatial.distance import cdist"
     ],
     "language": "python",
     "metadata": {},
     "outputs": [],
     "prompt_number": 1
    },
    {
     "cell_type": "code",
     "collapsed": false,
     "input": [
      "X_train = np.arange(24).reshape(6, 4)\n",
      "X_train"
     ],
     "language": "python",
     "metadata": {},
     "outputs": [
      {
       "metadata": {},
       "output_type": "pyout",
       "prompt_number": 2,
       "text": [
        "array([[ 0,  1,  2,  3],\n",
        "       [ 4,  5,  6,  7],\n",
        "       [ 8,  9, 10, 11],\n",
        "       [12, 13, 14, 15],\n",
        "       [16, 17, 18, 19],\n",
        "       [20, 21, 22, 23]])"
       ]
      }
     ],
     "prompt_number": 2
    },
    {
     "cell_type": "code",
     "collapsed": false,
     "input": [
      "X_test = np.array([\n",
      "    [1, 1, 0, -1],\n",
      "    [2, -5, 1, 3]\n",
      "])"
     ],
     "language": "python",
     "metadata": {},
     "outputs": [],
     "prompt_number": 3
    },
    {
     "cell_type": "code",
     "collapsed": false,
     "input": [
      "dists = np.zeros((len(X_test), len(X_train)))\n",
      "for i in range(len(X_test)):\n",
      "    dists[i] = np.sum(np.square(X_test[i] - X_train), axis=1)"
     ],
     "language": "python",
     "metadata": {},
     "outputs": [],
     "prompt_number": 4
    },
    {
     "cell_type": "code",
     "collapsed": false,
     "input": [
      "dists"
     ],
     "language": "python",
     "metadata": {},
     "outputs": [
      {
       "metadata": {},
       "output_type": "pyout",
       "prompt_number": 5,
       "text": [
        "array([[   21.,   125.,   357.,   717.,  1205.,  1821.],\n",
        "       [   41.,   145.,   377.,   737.,  1225.,  1841.]])"
       ]
      }
     ],
     "prompt_number": 5
    },
    {
     "cell_type": "code",
     "collapsed": false,
     "input": [
      "np.dot(X_test.T, X_test)"
     ],
     "language": "python",
     "metadata": {},
     "outputs": [
      {
       "metadata": {},
       "output_type": "pyout",
       "prompt_number": 6,
       "text": [
        "array([[  5,  -9,   2,   5],\n",
        "       [ -9,  26,  -5, -16],\n",
        "       [  2,  -5,   1,   3],\n",
        "       [  5, -16,   3,  10]])"
       ]
      }
     ],
     "prompt_number": 6
    },
    {
     "cell_type": "code",
     "collapsed": false,
     "input": [
      "np.sum(np.square(X_test.reshape((2, 1, -1)) - X_train), axis=-1)"
     ],
     "language": "python",
     "metadata": {},
     "outputs": [
      {
       "metadata": {},
       "output_type": "pyout",
       "prompt_number": 7,
       "text": [
        "array([[  21,  125,  357,  717, 1205, 1821],\n",
        "       [  41,  145,  377,  737, 1225, 1841]])"
       ]
      }
     ],
     "prompt_number": 7
    },
    {
     "cell_type": "code",
     "collapsed": false,
     "input": [
      "np.sum(np.square(X_test[:, np.newaxis, :] - X_train[np.newaxis, :, :]), axis=2)"
     ],
     "language": "python",
     "metadata": {},
     "outputs": [
      {
       "metadata": {},
       "output_type": "pyout",
       "prompt_number": 8,
       "text": [
        "array([[  21,  125,  357,  717, 1205, 1821],\n",
        "       [  41,  145,  377,  737, 1225, 1841]])"
       ]
      }
     ],
     "prompt_number": 8
    },
    {
     "cell_type": "code",
     "collapsed": false,
     "input": [
      "cdist(X_test, X_train, 'sqeuclidean')"
     ],
     "language": "python",
     "metadata": {},
     "outputs": [
      {
       "metadata": {},
       "output_type": "pyout",
       "prompt_number": 9,
       "text": [
        "array([[   21.,   125.,   357.,   717.,  1205.,  1821.],\n",
        "       [   41.,   145.,   377.,   737.,  1225.,  1841.]])"
       ]
      }
     ],
     "prompt_number": 9
    },
    {
     "cell_type": "markdown",
     "metadata": {},
     "source": [
      "### Matrix multiplication\n",
      "~~~python\n",
      "dist(x, y) = sqrt(dot(x, x) - 2 * dot(x, y) + dot(y, y))\n",
      "~~~"
     ]
    },
    {
     "cell_type": "code",
     "collapsed": false,
     "input": [
      "np.multiply(X_test, X_test)"
     ],
     "language": "python",
     "metadata": {},
     "outputs": [
      {
       "metadata": {},
       "output_type": "pyout",
       "prompt_number": 10,
       "text": [
        "array([[ 1,  1,  0,  1],\n",
        "       [ 4, 25,  1,  9]])"
       ]
      }
     ],
     "prompt_number": 10
    },
    {
     "cell_type": "code",
     "collapsed": false,
     "input": [
      "np.multiply(X_train, X_train)"
     ],
     "language": "python",
     "metadata": {},
     "outputs": [
      {
       "metadata": {},
       "output_type": "pyout",
       "prompt_number": 11,
       "text": [
        "array([[  0,   1,   4,   9],\n",
        "       [ 16,  25,  36,  49],\n",
        "       [ 64,  81, 100, 121],\n",
        "       [144, 169, 196, 225],\n",
        "       [256, 289, 324, 361],\n",
        "       [400, 441, 484, 529]])"
       ]
      }
     ],
     "prompt_number": 11
    },
    {
     "cell_type": "code",
     "collapsed": false,
     "input": [
      "XX = np.sum(X_test * X_test, axis=1)[:, np.newaxis]\n",
      "YY = np.sum(X_train * X_train, axis=1)[np.newaxis, :]\n",
      "print('XX:', XX)\n",
      "print('YY:', YY)"
     ],
     "language": "python",
     "metadata": {},
     "outputs": [
      {
       "output_type": "stream",
       "stream": "stdout",
       "text": [
        "XX: [[ 3]\n",
        " [39]]\n",
        "YY: [[  14  126  366  734 1230 1854]]\n"
       ]
      }
     ],
     "prompt_number": 12
    },
    {
     "cell_type": "code",
     "collapsed": false,
     "input": [
      "distances = np.dot(X_test, X_train.T)\n",
      "distances *= -2\n",
      "distances += XX\n",
      "distances += YY\n",
      "np.maximum(distances, 0, out=distances)"
     ],
     "language": "python",
     "metadata": {},
     "outputs": [
      {
       "metadata": {},
       "output_type": "pyout",
       "prompt_number": 13,
       "text": [
        "array([[  21,  125,  357,  717, 1205, 1821],\n",
        "       [  41,  145,  377,  737, 1225, 1841]])"
       ]
      }
     ],
     "prompt_number": 13
    },
    {
     "cell_type": "code",
     "collapsed": false,
     "input": [
      "%%timeit\n",
      "dists = np.zeros((len(X_test), len(X_train)))\n",
      "for i in range(len(X_test)):\n",
      "    dists[i] = np.sum(np.square(X_test[i] - X_train), axis=1)"
     ],
     "language": "python",
     "metadata": {},
     "outputs": [
      {
       "output_type": "stream",
       "stream": "stdout",
       "text": [
        "10000 loops, best of 3: 23.5 \u00b5s per loop\n"
       ]
      }
     ],
     "prompt_number": 14
    },
    {
     "cell_type": "code",
     "collapsed": false,
     "input": [
      "%timeit np.sum(np.square(X_test[:, np.newaxis, :] - X_train[np.newaxis, :, :]), axis=2)\n",
      "%timeit cdist(X_test, X_train, 'sqeuclidean')"
     ],
     "language": "python",
     "metadata": {},
     "outputs": [
      {
       "output_type": "stream",
       "stream": "stdout",
       "text": [
        "100000 loops, best of 3: 10.1 \u00b5s per loop\n",
        "10000 loops, best of 3: 25.3 \u00b5s per loop"
       ]
      },
      {
       "output_type": "stream",
       "stream": "stdout",
       "text": [
        "\n"
       ]
      }
     ],
     "prompt_number": 15
    },
    {
     "cell_type": "code",
     "collapsed": false,
     "input": [
      "%%timeit\n",
      "XX = np.sum(X_test * X_test, axis=1)[:, np.newaxis]\n",
      "YY = np.sum(X_train * X_train, axis=1)[np.newaxis, :]\n",
      "distances = np.dot(X_test, X_train.T)\n",
      "distances *= -2\n",
      "distances += XX\n",
      "distances += YY\n",
      "np.maximum(distances, 0, out=distances)"
     ],
     "language": "python",
     "metadata": {},
     "outputs": [
      {
       "output_type": "stream",
       "stream": "stdout",
       "text": [
        "10000 loops, best of 3: 29.2 \u00b5s per loop\n"
       ]
      }
     ],
     "prompt_number": 16
    },
    {
     "cell_type": "code",
     "collapsed": false,
     "input": [],
     "language": "python",
     "metadata": {},
     "outputs": [],
     "prompt_number": 16
    }
   ],
   "metadata": {}
  }
 ]
}