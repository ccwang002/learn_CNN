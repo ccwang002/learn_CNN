{
 "cells": [
  {
   "cell_type": "markdown",
   "metadata": {
    "collapsed": true
   },
   "source": [
    "Read <http://docs.continuum.io/numbapro/quickstart.html>"
   ]
  },
  {
   "cell_type": "code",
   "execution_count": 5,
   "metadata": {
    "collapsed": true
   },
   "outputs": [],
   "source": [
    "import mkl\n",
    "from numbapro import int32, float32"
   ]
  },
  {
   "cell_type": "code",
   "execution_count": 7,
   "metadata": {
    "collapsed": false
   },
   "outputs": [
    {
     "name": "stdout",
     "output_type": "stream",
     "text": [
      "array(int32, 1d, A, nonconst)\n",
      "array(float32, 2d, A, nonconst)\n",
      "array(int32, 4d, A, nonconst)\n"
     ]
    }
   ],
   "source": [
    "print(int32[:])           # 1D int32 array\n",
    "print(float32[:,:])       # 2D float32 array\n",
    "print(int32[:,:,:,:])     # 4D int32 array"
   ]
  },
  {
   "cell_type": "code",
   "execution_count": 8,
   "metadata": {
    "collapsed": false
   },
   "outputs": [
    {
     "name": "stdout",
     "output_type": "stream",
     "text": [
      "complex64(int32, float32, complex64)\n",
      "float32()\n",
      "none(float32)\n",
      "none(array(float32, 1d, A, nonconst), array(int32, 1d, A, nonconst))\n"
     ]
    }
   ],
   "source": [
    "from numbapro import void, int32, float32, complex64\n",
    "print(complex64(int32, float32, complex64))\n",
    "print(float32())                             # no arguments\n",
    "print(void(float32))                         # return nothing\n",
    "print(void(float32[:], int32[:]))"
   ]
  },
  {
   "cell_type": "code",
   "execution_count": 9,
   "metadata": {
    "collapsed": false
   },
   "outputs": [
    {
     "name": "stdout",
     "output_type": "stream",
     "text": [
      "CPUOverloaded(<function foo at 0x10f2aeea0>)\n",
      "(1+6j)\n"
     ]
    }
   ],
   "source": [
    "from numbapro import jit, int32, float32, complex64\n",
    "\n",
    "@jit(complex64(int32, float32, complex64), target=\"cpu\")\n",
    "def bar(a, b, c):\n",
    "   return a + b  * c\n",
    "\n",
    "@jit(complex64(int32, float32, complex64)) # target kwarg defaults to \"cpu\"\n",
    "def foo(a, b, c):\n",
    "   return a + b  * c\n",
    "\n",
    "\n",
    "print(foo)\n",
    "print(foo(1, 2.0, 3.0j))"
   ]
  },
  {
   "cell_type": "code",
   "execution_count": 10,
   "metadata": {
    "collapsed": false
   },
   "outputs": [
    {
     "name": "stdout",
     "output_type": "stream",
     "text": [
      "CPUOverloaded(<function foo at 0x1007dc048>)\n",
      "(1+6j)\n"
     ]
    }
   ],
   "source": [
    "from numbapro import autojit\n",
    "\n",
    "@autojit(target=\"cpu\")\n",
    "def bar(a, b, c):\n",
    "    return a + b * c\n",
    "\n",
    "@autojit                    # target kwarg defaults to \"cpu\"\n",
    "def foo(a, b, c):\n",
    "    return a + b * c\n",
    "\n",
    "print(foo)\n",
    "print(foo(1, 2.0, 3j))"
   ]
  },
  {
   "cell_type": "code",
   "execution_count": 12,
   "metadata": {
    "collapsed": false
   },
   "outputs": [
    {
     "name": "stdout",
     "output_type": "stream",
     "text": [
      "[  0.   3.   6.   9.  12.  15.  18.  21.  24.  27.]\n",
      "45.0\n"
     ]
    }
   ],
   "source": [
    "from numbapro import vectorize\n",
    "from numpy import arange\n",
    "\n",
    "@vectorize(['float32(float32, float32)'], target='cpu') # default to 'cpu'\n",
    "def add2(a, b):\n",
    "    return a + b\n",
    "\n",
    "X = arange(10, dtype='float32')\n",
    "Y = X * 2\n",
    "print(add2(X, Y))\n",
    "print(add2.reduce(X))"
   ]
  },
  {
   "cell_type": "code",
   "execution_count": 14,
   "metadata": {
    "collapsed": false
   },
   "outputs": [
    {
     "name": "stdout",
     "output_type": "stream",
     "text": [
      "A:\n",
      "[[0 1]\n",
      " [2 3]]\n",
      "B:\n",
      "[[0 1]\n",
      " [2 3]]\n",
      "C:\n",
      "[[  2.   3.]\n",
      " [  6.  11.]]\n"
     ]
    }
   ],
   "source": [
    "from numbapro import guvectorize\n",
    "from numpy import arange\n",
    "\n",
    "@guvectorize(['void(float64[:,:], float64[:,:], float64[:,:])'],\n",
    "             '(m,n),(n,p)->(m,p)')\n",
    "def matmul(A, B, C):\n",
    "    m, n = A.shape\n",
    "    n, p = B.shape\n",
    "    for i in range(m):\n",
    "        for j in range(p):\n",
    "            C[i, j] = 0\n",
    "            for k in range(n):\n",
    "                C[i, j] += A[i, k] * B[k, j]\n",
    "\n",
    "w = 2\n",
    "A = arange(w**2).reshape(w, w)\n",
    "B = arange(w**2).reshape(w, w)\n",
    "C = matmul(A, B)\n",
    "print(\"A:\\n%s\" % A)\n",
    "print(\"B:\\n%s\" % B)\n",
    "print(\"C:\\n%s\" % C)"
   ]
  },
  {
   "cell_type": "code",
   "execution_count": 15,
   "metadata": {
    "collapsed": false
   },
   "outputs": [
    {
     "name": "stdout",
     "output_type": "stream",
     "text": [
      "[[ 0  1  2]\n",
      " [ 3  4  5]\n",
      " [ 6  7  8]\n",
      " [ 9 10 11]\n",
      " [12 13 14]]\n",
      "imp: [ 3 12 21 30 39]\n",
      "exp: [ 3 12 21 30 39]\n"
     ]
    }
   ],
   "source": [
    "from numbapro import guvectorize\n",
    "from numpy import zeros, arange\n",
    "\n",
    "@guvectorize(['void(int32[:], int32[:])'], '(n)->()')\n",
    "def sum_row(inp, out):\n",
    "    \"\"\"\n",
    "    Sum every row\n",
    "\n",
    "    function type: two arrays\n",
    "                   (note: scalar is represented as an array of length 1)\n",
    "    signature: n elements to scalar\n",
    "    \"\"\"\n",
    "    tmp = 0.\n",
    "    for i in range(inp.shape[0]):\n",
    "        tmp += inp[i]\n",
    "    out[0] = tmp\n",
    "\n",
    "inp = arange(15, dtype='int32').reshape(5, 3)\n",
    "print(inp)\n",
    "\n",
    "# implicit output array\n",
    "out = sum_row(inp)\n",
    "print('imp: %s' % out)\n",
    "\n",
    "# explicit output array\n",
    "explicit_out = zeros(5, dtype='int32')\n",
    "sum_row(inp, out=explicit_out)\n",
    "print('exp: %s' % explicit_out)"
   ]
  },
  {
   "cell_type": "code",
   "execution_count": null,
   "metadata": {
    "collapsed": true
   },
   "outputs": [],
   "source": []
  }
 ],
 "metadata": {
  "kernelspec": {
   "display_name": "Python 3",
   "language": "python",
   "name": "python3"
  },
  "language_info": {
   "codemirror_mode": {
    "name": "ipython",
    "version": 3
   },
   "file_extension": ".py",
   "mimetype": "text/x-python",
   "name": "python",
   "nbconvert_exporter": "python",
   "pygments_lexer": "ipython3",
   "version": "3.4.3"
  }
 },
 "nbformat": 4,
 "nbformat_minor": 0
}
